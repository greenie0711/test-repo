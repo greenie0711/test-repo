{
 "cells": [
  {
   "cell_type": "code",
   "execution_count": 2,
   "id": "cc4d049a",
   "metadata": {},
   "outputs": [
    {
     "name": "stdout",
     "output_type": "stream",
     "text": [
      "[{'Year': 1961, 'Percent Change Per Capita': 2.0}, {'Year': 1962, 'Percent Change Per Capita': 5.77}, {'Year': 1963, 'Percent Change Per Capita': 4.04}, {'Year': 1964, 'Percent Change Per Capita': 5.9}, {'Year': 1965, 'Percent Change Per Capita': 7.11}, {'Year': 1966, 'Percent Change Per Capita': 8.31}, {'Year': 1967, 'Percent Change Per Capita': 4.58}, {'Year': 1968, 'Percent Change Per Capita': 8.3}, {'Year': 1969, 'Percent Change Per Capita': 7.16}, {'Year': 1970, 'Percent Change Per Capita': 4.01}, {'Year': 1971, 'Percent Change Per Capita': 7.16}, {'Year': 1972, 'Percent Change Per Capita': 8.65}, {'Year': 1973, 'Percent Change Per Capita': 10.37}, {'Year': 1974, 'Percent Change Per Capita': 7.43}, {'Year': 1975, 'Percent Change Per Capita': 7.96}, {'Year': 1976, 'Percent Change Per Capita': 10.14}, {'Year': 1977, 'Percent Change Per Capita': 10.02}, {'Year': 1978, 'Percent Change Per Capita': 11.76}, {'Year': 1979, 'Percent Change Per Capita': 10.5}, {'Year': 1980, 'Percent Change Per Capita': 7.72}, {'Year': 1981, 'Percent Change Per Capita': 11.14}, {'Year': 1982, 'Percent Change Per Capita': 3.28}, {'Year': 1983, 'Percent Change Per Capita': 7.69}, {'Year': 1984, 'Percent Change Per Capita': 10.15}, {'Year': 1985, 'Percent Change Per Capita': 6.52}, {'Year': 1986, 'Percent Change Per Capita': 4.57}, {'Year': 1987, 'Percent Change Per Capita': 5.08}, {'Year': 1988, 'Percent Change Per Capita': 6.88}, {'Year': 1989, 'Percent Change Per Capita': 6.72}, {'Year': 1990, 'Percent Change Per Capita': 4.52}, {'Year': 1991, 'Percent Change Per Capita': 1.9}, {'Year': 1992, 'Percent Change Per Capita': 4.42}, {'Year': 1993, 'Percent Change Per Capita': 3.81}, {'Year': 1994, 'Percent Change Per Capita': 4.96}, {'Year': 1995, 'Percent Change Per Capita': 3.6}, {'Year': 1996, 'Percent Change Per Capita': 4.45}, {'Year': 1997, 'Percent Change Per Capita': 4.98}, {'Year': 1998, 'Percent Change Per Capita': 4.43}, {'Year': 1999, 'Percent Change Per Capita': 5.06}, {'Year': 2000, 'Percent Change Per Capita': 5.26}, {'Year': 2001, 'Percent Change Per Capita': 2.21}, {'Year': 2002, 'Percent Change Per Capita': 2.33}, {'Year': 2003, 'Percent Change Per Capita': 3.93}, {'Year': 2004, 'Percent Change Per Capita': 5.66}, {'Year': 2005, 'Percent Change Per Capita': 5.75}, {'Year': 2006, 'Percent Change Per Capita': 4.94}, {'Year': 2007, 'Percent Change Per Capita': 3.78}, {'Year': 2008, 'Percent Change Per Capita': 1.08}, {'Year': 2009, 'Percent Change Per Capita': -2.83}, {'Year': 2010, 'Percent Change Per Capita': 3.09}, {'Year': 2011, 'Percent Change Per Capita': 2.91}, {'Year': 2012, 'Percent Change Per Capita': 3.43}, {'Year': 2013, 'Percent Change Per Capita': 2.91}, {'Year': 2014, 'Percent Change Per Capita': 3.44}, {'Year': 2015, 'Percent Change Per Capita': 2.97}, {'Year': 2016, 'Percent Change Per Capita': 1.94}, {'Year': 2017, 'Percent Change Per Capita': 3.54}, {'Year': 2018, 'Percent Change Per Capita': 4.82}, {'Year': 2019, 'Percent Change Per Capita': 3.65}, {'Year': 2020, 'Percent Change Per Capita': -3.18}, {'Year': 2021, 'Percent Change Per Capita': 9.93}]\n"
     ]
    }
   ],
   "source": [
    "percent_list = []\n",
    "T = (3007, 3067, 3244, 3375,3574, 3828, 4146, 4336, 4696, 5032,5234,5609,6094,6726,7226,7801,8592,9453,10565,11674,12575,13976,14434,15544,17121,18237,19071,20039,21417,22857,23889,24342,25419,26387,27695,28691,29968,31459,32854,34515,36330,37134,37998,39490,41725,44123,46302,48050,48570,47195,48651,50066,51784,53291,55124,56763,57867,59915,62805,65095,63028,69288)\n",
    "for i in range(1, len(T)):\n",
    "    percent_change = ((T[i] - T[i-1]) / T[i-1]) * 100\n",
    "    year = i + 1960\n",
    "    percent_list.append({\"Year\":year, \"Percent Change Per Capita\":round(percent_change, 2)})\n",
    "\n",
    "print(percent_list)\n",
    " "
   ]
  },
  {
   "cell_type": "code",
   "execution_count": 17,
   "id": "e10aab5c",
   "metadata": {},
   "outputs": [
    {
     "ename": "ValueError",
     "evalue": "dictionary update sequence element #0 has length 8; 2 is required",
     "output_type": "error",
     "traceback": [
      "\u001b[31m---------------------------------------------------------------------------\u001b[39m",
      "\u001b[31mValueError\u001b[39m                                Traceback (most recent call last)",
      "\u001b[36mCell\u001b[39m\u001b[36m \u001b[39m\u001b[32mIn[17]\u001b[39m\u001b[32m, line 1\u001b[39m\n\u001b[32m----> \u001b[39m\u001b[32m1\u001b[39m \u001b[38;5;28;43mdict\u001b[39;49m\u001b[43m(\u001b[49m\u001b[43mpercent_list\u001b[49m\u001b[43m)\u001b[49m\n",
      "\u001b[31mValueError\u001b[39m: dictionary update sequence element #0 has length 8; 2 is required"
     ]
    }
   ],
   "source": [
    "dict(percent_list)"
   ]
  }
 ],
 "metadata": {
  "kernelspec": {
   "display_name": ".venv",
   "language": "python",
   "name": "python3"
  },
  "language_info": {
   "codemirror_mode": {
    "name": "ipython",
    "version": 3
   },
   "file_extension": ".py",
   "mimetype": "text/x-python",
   "name": "python",
   "nbconvert_exporter": "python",
   "pygments_lexer": "ipython3",
   "version": "3.13.2"
  }
 },
 "nbformat": 4,
 "nbformat_minor": 5
}
