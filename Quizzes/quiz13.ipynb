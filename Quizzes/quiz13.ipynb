{
 "cells": [
  {
   "cell_type": "code",
   "execution_count": 12,
   "id": "0e0404fe",
   "metadata": {},
   "outputs": [
    {
     "name": "stdout",
     "output_type": "stream",
     "text": [
      "Woof!\n"
     ]
    }
   ],
   "source": [
    "class Animal:\n",
    "    def speak(self):\n",
    "        return \"Some sound\"\n",
    "\n",
    "class Dog(Animal):\n",
    "        def speak(self):\n",
    "             return \"Woof!\"\n",
    "\n",
    "d = Dog()\n",
    "print(Dog().speak())"
   ]
  },
  {
   "cell_type": "code",
   "execution_count": 13,
   "id": "8cf04a3b",
   "metadata": {},
   "outputs": [
    {
     "name": "stdout",
     "output_type": "stream",
     "text": [
      "6 6\n"
     ]
    }
   ],
   "source": [
    "class Car:\n",
    "    wheels = 4\n",
    "\n",
    "c1 = Car()\n",
    "c2 = Car()\n",
    "Car.wheels = 6\n",
    "print(c1.wheels, c2.wheels)"
   ]
  },
  {
   "cell_type": "code",
   "execution_count": 14,
   "id": "cb7595ff",
   "metadata": {},
   "outputs": [
    {
     "name": "stdout",
     "output_type": "stream",
     "text": [
      "10 10\n"
     ]
    }
   ],
   "source": [
    "class A:\n",
    "    x = 5\n",
    "\n",
    "a1 = A()\n",
    "a2 = A()\n",
    "A.x = 10\n",
    "print(a1.x, a2.x)"
   ]
  }
 ],
 "metadata": {
  "kernelspec": {
   "display_name": ".venv",
   "language": "python",
   "name": "python3"
  },
  "language_info": {
   "codemirror_mode": {
    "name": "ipython",
    "version": 3
   },
   "file_extension": ".py",
   "mimetype": "text/x-python",
   "name": "python",
   "nbconvert_exporter": "python",
   "pygments_lexer": "ipython3",
   "version": "3.13.2"
  }
 },
 "nbformat": 4,
 "nbformat_minor": 5
}
