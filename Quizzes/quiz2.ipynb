{
 "cells": [
  {
   "cell_type": "raw",
   "metadata": {
    "vscode": {
     "languageId": "raw"
    }
   },
   "source": [
    "title: \"Lecture 2: File path\"\n",
    "format: \n",
    "  html:\n",
    "    toc: true\n",
    "    toc-title: Contents\n",
    "    code-fold: show\n",
    "    self-contained: true\n",
    "jupyter: python3"
   ]
  },
  {
   "cell_type": "markdown",
   "metadata": {},
   "source": [
    "## Reading Data From A File"
   ]
  },
  {
   "cell_type": "code",
   "execution_count": 45,
   "metadata": {},
   "outputs": [],
   "source": [
    "# I am reading data from a CSV file"
   ]
  },
  {
   "cell_type": "code",
   "execution_count": 23,
   "metadata": {},
   "outputs": [
    {
     "data": {
      "text/plain": [
       "[{'Title': '12 Rounds',\n",
       "  'US Gross': 12234694,\n",
       "  'Worldwide Gross': 18184083,\n",
       "  'US DVD Sales': 8283859,\n",
       "  'Production Budget': 20000000,\n",
       "  'Release Date': 'Mar 27 2009',\n",
       "  'MPAA Rating': 'PG-13',\n",
       "  'Running Time min': 108,\n",
       "  'Distributor': '20th Century Fox',\n",
       "  'Source': 'Original Screenplay',\n",
       "  'Major Genre': 'Action',\n",
       "  'Creative Type': 'Contemporary Fiction',\n",
       "  'Director': 'Renny Harlin',\n",
       "  'Rotten Tomatoes Rating': 28,\n",
       "  'IMDB Rating': 5.4,\n",
       "  'IMDB Votes': 8914},\n",
       " {'Title': 2012,\n",
       "  'US Gross': 166112167,\n",
       "  'Worldwide Gross': 766812167,\n",
       "  'US DVD Sales': 50736023,\n",
       "  'Production Budget': 200000000,\n",
       "  'Release Date': 'Nov 13 2009',\n",
       "  'MPAA Rating': 'PG-13',\n",
       "  'Running Time min': 158,\n",
       "  'Distributor': 'Sony Pictures',\n",
       "  'Source': 'Original Screenplay',\n",
       "  'Major Genre': 'Action',\n",
       "  'Creative Type': 'Science Fiction',\n",
       "  'Director': 'Roland Emmerich',\n",
       "  'Rotten Tomatoes Rating': 39,\n",
       "  'IMDB Rating': 6.2,\n",
       "  'IMDB Votes': 396}]"
      ]
     },
     "execution_count": 23,
     "metadata": {},
     "output_type": "execute_result"
    }
   ],
   "source": [
    "import json\n",
    "with open(\"Datasets/filtered_movies.json\", encoding=\"utf8\") as file:\n",
    "    movie_data=json.load(file)\n",
    "\n",
    "movie_data[:2]"
   ]
  },
  {
   "cell_type": "code",
   "execution_count": 46,
   "metadata": {},
   "outputs": [],
   "source": [
    "# I succesfully read the data into my python list"
   ]
  },
  {
   "cell_type": "code",
   "execution_count": 2,
   "metadata": {},
   "outputs": [
    {
     "data": {
      "text/plain": [
       "'/Users/jackgreenspan/STAT201/Quizzes'"
      ]
     },
     "execution_count": 2,
     "metadata": {},
     "output_type": "execute_result"
    }
   ],
   "source": [
    "pwd"
   ]
  }
 ],
 "metadata": {
  "kernelspec": {
   "display_name": ".venv",
   "language": "python",
   "name": "python3"
  },
  "language_info": {
   "codemirror_mode": {
    "name": "ipython",
    "version": 3
   },
   "file_extension": ".py",
   "mimetype": "text/x-python",
   "name": "python",
   "nbconvert_exporter": "python",
   "pygments_lexer": "ipython3",
   "version": "3.13.2"
  }
 },
 "nbformat": 4,
 "nbformat_minor": 2
}
