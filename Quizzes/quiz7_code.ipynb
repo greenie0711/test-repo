{
 "cells": [
  {
   "cell_type": "raw",
   "metadata": {
    "vscode": {
     "languageId": "raw"
    }
   },
   "source": [
    "title: \"Quiz 6\"\n",
    "format: \n",
    "  html:\n",
    "    toc: true\n",
    "    toc-title: Contents\n",
    "    code-fold: show\n",
    "    self-contained: true\n",
    "jupyter: python3"
   ]
  },
  {
   "cell_type": "code",
   "execution_count": 9,
   "metadata": {},
   "outputs": [
    {
     "name": "stdout",
     "output_type": "stream",
     "text": [
      "3\n"
     ]
    }
   ],
   "source": [
    "userstring=input(\"Enter a string of text\") #abcabcabc\n",
    "seen=\"\"\n",
    "count=0\n",
    "for i in range(len(userstring) - 2):\n",
    "    substr = userstring[i:i+3]\n",
    "\n",
    "    if (substr) not in (seen):\n",
    "        seen += substr\n",
    "        count += 1\n",
    "    \n",
    "\n",
    "print(count)\n",
    "\n"
   ]
  },
  {
   "cell_type": "code",
   "execution_count": 13,
   "metadata": {},
   "outputs": [
    {
     "name": "stdout",
     "output_type": "stream",
     "text": [
      "4\n"
     ]
    }
   ],
   "source": [
    "userstring=input(\"Enter a string of text\")\n",
    "count=0\n",
    "\n",
    "def is_palindrome(s):\n",
    "    return s == s[::-1]\n",
    "\n",
    "n = len(userstring)\n",
    "\n",
    "for length in range(3, n + 1, 2):  # step by 2 to get odd lengths only\n",
    "    for i in range(n - length + 1):  # sliding window\n",
    "        window = userstring[i:i+length]\n",
    "        if is_palindrome(window):\n",
    "            count += 1\n",
    "\n",
    "print(count)\n"
   ]
  },
  {
   "cell_type": "code",
   "execution_count": 26,
   "metadata": {},
   "outputs": [
    {
     "name": "stdout",
     "output_type": "stream",
     "text": [
      "61\n",
      "67\n",
      "71\n",
      "73\n",
      "79\n",
      "There are 5 prime numbers\n"
     ]
    }
   ],
   "source": [
    "count=0\n",
    "\n",
    "for i in range (60,80):\n",
    "    num_divisors=0\n",
    "    for divisor in range(2,int(0.5*i)):\n",
    "        if i % divisor == 0:\n",
    "            num_divisors=1\n",
    "            break\n",
    "    if num_divisors == 0:\n",
    "        print(i)\n",
    "        count += 1\n",
    "\n",
    "print(f\"There are {count} prime numbers\")"
   ]
  }
 ],
 "metadata": {
  "kernelspec": {
   "display_name": ".venv",
   "language": "python",
   "name": "python3"
  },
  "language_info": {
   "codemirror_mode": {
    "name": "ipython",
    "version": 3
   },
   "file_extension": ".py",
   "mimetype": "text/x-python",
   "name": "python",
   "nbconvert_exporter": "python",
   "pygments_lexer": "ipython3",
   "version": "3.13.2"
  }
 },
 "nbformat": 4,
 "nbformat_minor": 2
}
