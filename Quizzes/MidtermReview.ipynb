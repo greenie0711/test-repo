{
 "cells": [
  {
   "cell_type": "markdown",
   "id": "cad925d3",
   "metadata": {},
   "source": [
    "## Using loops (for and while)\n"
   ]
  },
  {
   "cell_type": "markdown",
   "id": "491aacde",
   "metadata": {},
   "source": [
    "Write a program that finds and prints the largest factor of a number input by the user. Check the output if the user inputs 133.\n"
   ]
  },
  {
   "cell_type": "code",
   "execution_count": 31,
   "id": "2e4ad362",
   "metadata": {},
   "outputs": [
    {
     "name": "stdout",
     "output_type": "stream",
     "text": [
      "17\n"
     ]
    }
   ],
   "source": [
    "usernumber = int(input(\"Enter a number\"))\n",
    "for i in range(int(usernumber/2)+1, 0, -1):\n",
    "    if usernumber % i == 0:\n",
    "        print(i)\n",
    "        break"
   ]
  },
  {
   "cell_type": "markdown",
   "id": "3763fcfb",
   "metadata": {},
   "source": [
    "## Try and except functions"
   ]
  },
  {
   "cell_type": "code",
   "execution_count": 38,
   "id": "3a353532",
   "metadata": {},
   "outputs": [
    {
     "name": "stdout",
     "output_type": "stream",
     "text": [
      "You did not enter a number\n"
     ]
    }
   ],
   "source": [
    "\n",
    "try:\n",
    "    userchoice = int(input(\"Type a number\"))\n",
    "    if userchoice % 2 == 0:\n",
    "        print('You have an even number')\n",
    "    else:\n",
    "        print('Your number is odd')\n",
    "\n",
    "except ValueError:\n",
    "    print(\"You did not enter a number\")"
   ]
  },
  {
   "cell_type": "markdown",
   "id": "d02e1095",
   "metadata": {},
   "source": [
    "## Data Structures\n",
    "List []:\n",
    "Ordered and Mutable\n",
    "Best for collections of related items you need to modify, iterate, or reorder frequently.\n",
    "\n",
    "Tuple ():\n",
    "Ordered and Immutable\n",
    "Ideal for data that shouldn’t change or for use as dictionary keys (since they are hashable).\n",
    "\n",
    "Dictionary {key, value}:\n",
    "Unordered (maintains insertion order in Python 3.7+) and Mutable\n",
    "Perfect for key-value lookups, fast data retrieval based on unique keys, and clearly organizing named data.\n",
    "\n",
    "Set {}:\n",
    "Unordered and Mutable\n",
    "Automatically enforces unique elements. Great for membership testing (e.g., in checks) and set operations like union, intersection, etc."
   ]
  },
  {
   "cell_type": "markdown",
   "id": "6ef1fdbf",
   "metadata": {},
   "source": [
    "## Working with Lists"
   ]
  },
  {
   "cell_type": "markdown",
   "id": "dcf69a48",
   "metadata": {},
   "source": [
    "Start by defining a list that contains the elements [8, 9, 10]. Then do the following:\n",
    "\n",
    "Set the second entry (index 1) to 17\n",
    "\n",
    "Add 4, 5, and 6 to the end of the list\n",
    "\n",
    "Remove the first entry from the list\n",
    "\n",
    "Sort the list\n",
    "\n",
    "Double the list (concatenate the list to itself)\n",
    "\n",
    "Insert 25 at index 3, then print the final list.\n",
    "Expected Output: [4, 5, 6, 25, 10, 17, 4, 5, 6, 10, 17]"
   ]
  },
  {
   "cell_type": "code",
   "execution_count": 2,
   "id": "42c11618",
   "metadata": {},
   "outputs": [
    {
     "name": "stdout",
     "output_type": "stream",
     "text": [
      "[4, 5, 6, 25, 10, 17, 4, 5, 6, 10, 17]\n",
      "<class 'list'>\n"
     ]
    }
   ],
   "source": [
    "example_list = [8,9,10]\n",
    "example_list[1] = 17\n",
    "example_list.append(4) #Adds item to end\n",
    "example_list.append(5)\n",
    "example_list.append(6)\n",
    "example_list.pop(0) #removes item at index 0\n",
    "example_list.sort() #DONT FORGET () after functions like sort(), upper(), lower(), strip()\n",
    "for i in range(len(example_list)):\n",
    "    example_list.append(example_list[i])\n",
    "example_list.insert(3, 25)\n",
    "print(example_list)\n",
    "\n",
    "print(type(example_list))"
   ]
  },
  {
   "cell_type": "markdown",
   "id": "a0322690",
   "metadata": {},
   "source": [
    "Using list comprehension:\n",
    "\n",
    "Create a list of all odd numbers between 1 and 20.\n",
    "\n",
    "Generate a list of the lengths of each word in the list [“apple”, “banana”, “cherry”].\n",
    "\n",
    "Create a list of numbers divisible by both 3 and 5 from 1 to 100.\n"
   ]
  },
  {
   "cell_type": "code",
   "execution_count": 74,
   "id": "bed95ef9",
   "metadata": {},
   "outputs": [
    {
     "name": "stdout",
     "output_type": "stream",
     "text": [
      "[1, 3, 5, 7, 9, 11, 13, 15, 17, 19]\n"
     ]
    }
   ],
   "source": [
    "odds = [x for x in range (1, 21) if x%2 != 0]\n",
    "print(odds)"
   ]
  },
  {
   "cell_type": "code",
   "execution_count": 6,
   "id": "ab8889ed",
   "metadata": {},
   "outputs": [
    {
     "name": "stdout",
     "output_type": "stream",
     "text": [
      "[]\n"
     ]
    }
   ],
   "source": [
    "wordlengths = [len(word) for word in ['apple', 'banana', 'cherry']]\n",
    "print(wordlengths[1:1])"
   ]
  },
  {
   "cell_type": "code",
   "execution_count": 77,
   "id": "217d09d1",
   "metadata": {},
   "outputs": [
    {
     "name": "stdout",
     "output_type": "stream",
     "text": [
      "[15, 30, 45, 60, 75, 90]\n"
     ]
    }
   ],
   "source": [
    "specified_numbers = [x for x in range(1, 101) if x%3 == 0 and x%5 == 0]\n",
    "print(specified_numbers)"
   ]
  },
  {
   "cell_type": "markdown",
   "id": "dee03f12",
   "metadata": {},
   "source": [
    "## Sorting Lists"
   ]
  },
  {
   "cell_type": "code",
   "execution_count": 23,
   "id": "aca9e5d8",
   "metadata": {},
   "outputs": [
    {
     "name": "stdout",
     "output_type": "stream",
     "text": [
      "(1973, 10.37)\n",
      "(1976, 10.14)\n",
      "(1977, 10.02)\n",
      "(1978, 11.76)\n",
      "(1979, 10.5)\n",
      "(1981, 11.14)\n",
      "(1984, 10.15)\n",
      "Average GDP Per Capita 27392.95\n",
      "Lowest Year (1960, 3007) Highest Year (2021, 69288)\n",
      "(7801, 12575, 18237, 23889, 28691, 36330, 44123, 48651, 56763)\n"
     ]
    }
   ],
   "source": [
    "T = (3007, 3067, 3244, 3375,3574, 3828, 4146, 4336, 4696, 5032,5234,5609,6094,6726,7226,7801,8592,9453,10565,11674,12575,13976,14434,15544,17121,18237,19071,20039,21417,22857,23889,24342,25419,26387,27695,28691,29968,31459,32854,34515,36330,37134,37998,39490,41725,44123,46302,48050,48570,47195,48651,50066,51784,53291,55124,56763,57867,59915,62805,65095,63028,69288)\n",
    "pairedlist = []\n",
    "for i in range (1, len(T)):\n",
    "    percentchange = (((T[i])-(T[i-1]))/(T[i-1])) * 100\n",
    "    change_rounded = round(percentchange, 2)\n",
    "    year = (i)+1960\n",
    "    pair = (year, change_rounded)\n",
    "    pairedlist.append(pair)\n",
    "\n",
    "##List of years with percent change abpve 10%\n",
    "for pair in pairedlist:\n",
    "    if (pair[1]) >= 10:\n",
    "        print(pair)\n",
    "\n",
    "##Average  GDP Per Capita\n",
    "avg_GDP = (sum(T))/(len(T))\n",
    "print('Average GDP Per Capita', (round(avg_GDP, 2)))\n",
    "\n",
    "\n",
    "##Years with highest and lowest GDP Per Capita\n",
    "#First make empty list. Then make an iterator to make a pair for each year and score and add it to list.\n",
    "# Then use sorted and lambda, and index the first and last number.\n",
    "lst_gdp_by_year = []\n",
    "for i in range (0, len(T)):\n",
    "    year = (i)+1960\n",
    "    gdp_by_year = (year, (T[i]))\n",
    "    lst_gdp_by_year.append(gdp_by_year)\n",
    "sorted_gdp_by_year = sorted(lst_gdp_by_year, key=lambda x: x[1])\n",
    "print('Lowest Year',((sorted_gdp_by_year)[0]), 'Highest Year', sorted_gdp_by_year[-1])\n",
    "GDP_1975_to_2015 = T[1975-1960:(2015-1960)+1:5]\n",
    "print(GDP_1975_to_2015)"
   ]
  },
  {
   "cell_type": "markdown",
   "id": "437d0d3e",
   "metadata": {},
   "source": [
    "## Working with Dictionaries\n",
    "The GDP per capita of USA for most years from 1960 to 2021 is given by the dictionary D given in the code cell below.\n",
    "\n",
    "Find:\n",
    "\n",
    "The GDP per capita in 2015\n",
    "\n",
    "The GDP per capita of 2014 is missing. Update the dictionary to include the GDP per capita of 2014 as the average of the GDP per capita of 2013 and 2015.\n",
    "\n",
    "Impute the GDP per capita of other missing years in the same manner as in (2), i.e., as the average GDP per capita of the previous year and the next year. Note that the GDP per capita is not missing for any two consecutive years.\n",
    "\n",
    "Print the years and the imputed GDP per capita for the years having a missing value of GDP per capita in (3)."
   ]
  },
  {
   "cell_type": "code",
   "execution_count": null,
   "id": "b2c6a3cd",
   "metadata": {},
   "outputs": [],
   "source": [
    "D = {'1960':3007,'1961':3067,'1962':3244,'1963':3375,'1964':3574,'1965':3828,'1966':4146,'1967':4336,'1968':4696,'1970':5234,'1971':5609,'1972':6094,'1973':6726,'1974':7226,'1975':7801,'1976':8592,'1978':10565,'1979':11674, '1980':12575,'1981':13976,'1982':14434,'1983':15544,'1984':17121,'1985':18237,  '1986':19071,'1987':20039,'1988':21417,'1989':22857,'1990':23889,'1991':24342,  '1992':25419,'1993':26387,'1994':27695,'1995':28691,'1996':29968,'1997':31459,  '1998':32854,'2000':36330,'2001':37134,'2002':37998,'2003':39490,'2004':41725,  '2005':44123,'2006':46302,'2007':48050,'2008':48570,'2009':47195,'2010':48651,  '2011':50066,'2012':51784,'2013':53291,'2015':56763,'2016':57867,'2017':59915,'2018':62805, '2019':65095,'2020':63028,'2021':69288}\n",
    "#You can use dictionaryname.keys() to iterate through dict. keys -- or dictionaryname.values()"
   ]
  },
  {
   "cell_type": "code",
   "execution_count": 13,
   "id": "d521b6fe",
   "metadata": {},
   "outputs": [
    {
     "name": "stdout",
     "output_type": "stream",
     "text": [
      "The GDP per capita in 2015 was 56763\n",
      "Year 1969: 4965.0\n",
      "Year 1977: 9578.5\n",
      "Year 1999: 34592.0\n",
      "Year 2014: 55027.0\n"
     ]
    }
   ],
   "source": [
    "print('The GDP per capita in 2015 was', (D['2015']))\n",
    "(D['2014']) = ((D['2013'])+(D['2015']))/2\n",
    "(D['1969']) = ((D['1968'])+(D['1970']))/2\n",
    "(D['1977']) = ((D['1976'])+(D['1978']))/2\n",
    "(D['1999']) = ((D['1998'])+(D['2000']))/2\n",
    "print(\"Year 1969:\", (D['1969']))\n",
    "print(\"Year 1977:\", (D['1977']))\n",
    "print(\"Year 1999:\", (D['1999']))\n",
    "print(\"Year 2014:\", (D['2014']))\n",
    "\n",
    "\n",
    "\n"
   ]
  },
  {
   "cell_type": "code",
   "execution_count": 5,
   "id": "b17f8e98",
   "metadata": {},
   "outputs": [
    {
     "name": "stdout",
     "output_type": "stream",
     "text": [
      "False\n"
     ]
    }
   ],
   "source": [
    "user_int= int(input('enter an integer'))\n",
    "\n",
    "a = True\n",
    "b = 5 != 2+3\n",
    "c = 6 % 2 == 0\n",
    "\n",
    "print(not(a and c))"
   ]
  },
  {
   "cell_type": "code",
   "execution_count": 11,
   "id": "794c93d6",
   "metadata": {},
   "outputs": [
    {
     "name": "stdout",
     "output_type": "stream",
     "text": [
      "9\n"
     ]
    }
   ],
   "source": [
    "_my_int = 9\n",
    "print(_my_int)"
   ]
  },
  {
   "cell_type": "code",
   "execution_count": 13,
   "id": "06beb45f",
   "metadata": {},
   "outputs": [
    {
     "ename": "TypeError",
     "evalue": "can only concatenate str (not \"int\") to str",
     "output_type": "error",
     "traceback": [
      "\u001b[31m---------------------------------------------------------------------------\u001b[39m",
      "\u001b[31mTypeError\u001b[39m                                 Traceback (most recent call last)",
      "\u001b[36mCell\u001b[39m\u001b[36m \u001b[39m\u001b[32mIn[13]\u001b[39m\u001b[32m, line 1\u001b[39m\n\u001b[32m----> \u001b[39m\u001b[32m1\u001b[39m \u001b[38;5;28mprint\u001b[39m(\u001b[33;43m'\u001b[39;49m\u001b[33;43mHello there\u001b[39;49m\u001b[33;43m'\u001b[39;49m\u001b[43m \u001b[49m\u001b[43m+\u001b[49m\u001b[43m \u001b[49m\u001b[43m_my_int\u001b[49m)\n",
      "\u001b[31mTypeError\u001b[39m: can only concatenate str (not \"int\") to str"
     ]
    }
   ],
   "source": [
    "print('Hello there' + _my_int)"
   ]
  }
 ],
 "metadata": {
  "kernelspec": {
   "display_name": ".venv",
   "language": "python",
   "name": "python3"
  },
  "language_info": {
   "codemirror_mode": {
    "name": "ipython",
    "version": 3
   },
   "file_extension": ".py",
   "mimetype": "text/x-python",
   "name": "python",
   "nbconvert_exporter": "python",
   "pygments_lexer": "ipython3",
   "version": "3.13.2"
  }
 },
 "nbformat": 4,
 "nbformat_minor": 5
}
