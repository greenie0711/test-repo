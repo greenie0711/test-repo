{
 "cells": [
  {
   "cell_type": "raw",
   "metadata": {
    "vscode": {
     "languageId": "raw"
    }
   },
   "source": [
    "---\n",
    "title: \"Assignment 2\"\n",
    "subtitle: \"STAT 201\"\n",
    "author: \"Jack Greenspan\"\n",
    "format:\n",
    "  html:\n",
    "    toc: true\n",
    "    embed-resources: true\n",
    "---"
   ]
  },
  {
   "cell_type": "markdown",
   "metadata": {},
   "source": [
    "### Instructions"
   ]
  },
  {
   "cell_type": "markdown",
   "metadata": {},
   "source": [
    "1. **Write your name** on the assignment.\n",
    "\n",
    "2. Write your code in the *Code* cells of the **template provided** to write solutions for the assignment. **Do not open a new notebook**, and work from scratch. Ensure that the solution is written neatly enough to understand and grade.\n",
    "\n",
    "3. Use [Quarto](https://quarto.org/docs/output-formats/html-basics.html) to print the *.ipynb* file as HTML. You will need to open the command prompt, navigate to the directory containing the file, and use the command: `quarto render filename.ipynb --to html`. Submit the HTML file.\n",
    "\n",
    "4. You may talk to a friend, discuss the questions and potential directions for solving them. However, you need to write your own solutions and code separately, and not as a group activity. Do not use AI to solve the problems.\n",
    "\n",
    "5. There are 2 points for cleanliness and organization. The breakdown is as follows:\n",
    "    - Must be an HTML file rendered using Quarto. \n",
    "    - There aren’t excessively long outputs of extraneous information (e.g. no printouts of unnecessary results without good reason, there aren’t long printouts of which iteration a loop is on, there aren’t long sections of commented-out code, etc.). There is no piece of unnecessary / redundant code, and no unnecessary / redundant text\n",
    "    - The code follows the [python style guide](https://peps.python.org/pep-0008/) for naming variables, spaces, indentation, etc.\n",
    "    - The code should be commented and clearly written with intuitive variable names. For example, use variable names such as number_input, factor, hours, instead of a,b,xyz, etc."
   ]
  },
  {
   "cell_type": "markdown",
   "metadata": {},
   "source": [
    "### Question 1 (3 points)"
   ]
  },
  {
   "cell_type": "markdown",
   "metadata": {},
   "source": [
    "a) Write a program that counts down from 5 and then prints the message \"Go\"."
   ]
  },
  {
   "cell_type": "code",
   "execution_count": 20,
   "metadata": {},
   "outputs": [
    {
     "name": "stdout",
     "output_type": "stream",
     "text": [
      "5\n",
      "4\n",
      "3\n",
      "2\n",
      "1\n",
      "Go\n"
     ]
    }
   ],
   "source": [
    "for i in range (5,0, -1):\n",
    "    print (i)\n",
    "    if (i) == 1:\n",
    "        print(\"Go\")\n",
    "\n"
   ]
  },
  {
   "cell_type": "markdown",
   "metadata": {},
   "source": [
    "b) Write a program that asks the user for an integer, then counts down from that integer and then prints the message \"Go\". Use a try-except to ensure the user entered an integer. If it is not an integer, return the message \"You must enter an integer\". Show the output of the program if the user inputs `3`. "
   ]
  },
  {
   "cell_type": "code",
   "execution_count": 24,
   "metadata": {},
   "outputs": [
    {
     "name": "stdout",
     "output_type": "stream",
     "text": [
      "3\n",
      "2\n",
      "1\n",
      "Go\n"
     ]
    }
   ],
   "source": [
    "\n",
    "try:\n",
    "    user_int = int(input(\"Enter an integer\"))\n",
    "    for i in range (user_int,0, -1):\n",
    "        print (i)\n",
    "        if (i) == 1:\n",
    "            print(\"Go\")\n",
    "\n",
    "except:\n",
    "    if ValueError:\n",
    "        print(\"You must enter an integer\")"
   ]
  },
  {
   "cell_type": "markdown",
   "metadata": {},
   "source": [
    "c) Copy and modify part b to allow the user to keep entering input until they correctly enter an integer (ie: don't end after the except). Show the output of the program if the user first inputs `8.9` and then inputs `7`. "
   ]
  },
  {
   "cell_type": "code",
   "execution_count": null,
   "metadata": {},
   "outputs": [],
   "source": []
  },
  {
   "cell_type": "code",
   "execution_count": 36,
   "metadata": {},
   "outputs": [
    {
     "name": "stdout",
     "output_type": "stream",
     "text": [
      "You must enter an integer\n",
      "7\n",
      "6\n",
      "5\n",
      "4\n",
      "3\n",
      "2\n",
      "1\n",
      "Go\n"
     ]
    }
   ],
   "source": [
    "while True:\n",
    "    try:\n",
    "        user_int = int(input(\"Enter an integer\"))\n",
    "        break\n",
    "    except ValueError:\n",
    "        print(\"You must enter an integer\")\n",
    "\n",
    "for i in range (user_int,0, -1):\n",
    "    print (i)\n",
    "    if (i) == 1:\n",
    "        print(\"Go\")\n",
    "   \n",
    "\n",
    "    \n"
   ]
  },
  {
   "cell_type": "markdown",
   "metadata": {},
   "source": [
    "### Question 2 (2 points)"
   ]
  },
  {
   "cell_type": "markdown",
   "metadata": {},
   "source": [
    "Print a star formation as follows:\n",
    "\n",
    "                                             * \n",
    "                                             * * \n",
    "                                             * * * \n",
    "                                             * * * * \n",
    "                                             \n",
    "Ask the user to input the height of the formation first. For example, 4 should return the formation above. Show the output of the program if the user inputs `5`. "
   ]
  },
  {
   "cell_type": "code",
   "execution_count": 11,
   "metadata": {},
   "outputs": [
    {
     "name": "stdout",
     "output_type": "stream",
     "text": [
      "*\n",
      "**\n",
      "***\n",
      "****\n",
      "*****\n"
     ]
    }
   ],
   "source": [
    "height=int(input(\"Enter the height of the formation: \"))\n",
    "star = \"*\"\n",
    "for i in range(height):\n",
    "    print ((star)*(i+1))\n",
    "\n",
    "\n",
    "\n",
    "\n"
   ]
  },
  {
   "cell_type": "markdown",
   "metadata": {},
   "source": [
    "### Question 3 (6 points)"
   ]
  },
  {
   "cell_type": "markdown",
   "metadata": {},
   "source": [
    "a) Write a program where you play 3 \"Rock, Paper, Scissors\" games against the computer. Simulate a random choice for the computer each game and ask the user to enter either rock, paper, or scissors. Print the number of times the user won out of 3 games. Show the output of the program after playing the game. \n",
    "\n",
    "Recall: rock beats scissors; scissors beats paper; paper beats rock.\n",
    "\n",
    "Example:\n",
    "\n",
    "                                    \"You won <num_win> out of 3 games.\""
   ]
  },
  {
   "cell_type": "code",
   "execution_count": 22,
   "metadata": {},
   "outputs": [
    {
     "name": "stdout",
     "output_type": "stream",
     "text": [
      "Round 1: Computer chose paper, you chose rock\n",
      "Round 2: Computer chose rock, you chose paper\n",
      "Round 3: Computer chose scissors, you chose paper\n",
      "You won 1 of 3 games!\n"
     ]
    }
   ],
   "source": [
    "# import the random function and name the alias rm\n",
    "import random as rm\n",
    "wincount=0\n",
    "for i in range (3):\n",
    "    comp_choice = rm.choice(['rock', 'paper', 'scissors'])\n",
    "    user_choice = (input(\"Enter rock, paper, or scissors\")).lower()\n",
    "    if user_choice not in ['rock', 'paper', 'scissors']:\n",
    "        user_choice = \"invalid choice\"\n",
    "    print(f\"Round {i+1}: Computer chose {comp_choice}, you chose {user_choice}\")\n",
    "\n",
    "\n",
    "    if comp_choice == \"rock\":\n",
    "        if user_choice == \"rock\" or user_choice==\"scissors\":\n",
    "            wincount+=0\n",
    "        elif user_choice == \"paper\":\n",
    "            wincount+=1\n",
    "        else:\n",
    "            print(\"invalid choice\")\n",
    "\n",
    "    elif comp_choice == \"scissors\":\n",
    "        if user_choice == \"rock\":\n",
    "            wincount+=1\n",
    "        elif user_choice == \"paper\" or user_choice==\"scissors\":\n",
    "            wincount+=0\n",
    "        else:\n",
    "            print(\"invalid choice\")\n",
    "\n",
    "    elif comp_choice == \"paper\":\n",
    "        if user_choice == \"rock\" or user_choice == \"paper\":\n",
    "            wincount+=0\n",
    "        elif user_choice == \"scissors\":\n",
    "            wincount+=1\n",
    "        else:\n",
    "            print(\"invalid choice\")\n",
    "\n",
    "print(f\"You won {wincount} of 3 games!\")\n"
   ]
  },
  {
   "cell_type": "markdown",
   "metadata": {},
   "source": [
    "b) Write a program where you play \"Rock, Paper, Scissors\" games against the computer until you have won 3 games. Simulate a random choice for the computer each game and ask the user to enter either rock, paper, or scissors. Print the number of games it took to win 3 times. Show the output of the program after playing the game.\n",
    "\n",
    "Example:\n",
    "\n",
    "                                    \"You won 3 out of <num_games> games.\""
   ]
  },
  {
   "cell_type": "code",
   "execution_count": 25,
   "metadata": {},
   "outputs": [
    {
     "name": "stdout",
     "output_type": "stream",
     "text": [
      "Round 1: Computer chose scissors, you chose paper\n",
      "Round 2: Computer chose rock, you chose rock\n",
      "Round 3: Computer chose paper, you chose paper\n",
      "Round 4: Computer chose scissors, you chose rock\n",
      "Round 5: Computer chose paper, you chose scissors\n",
      "Round 6: Computer chose paper, you chose scissors\n",
      "You won 3 of 6 games!\n"
     ]
    }
   ],
   "source": [
    "import random as rm\n",
    "wincount=0\n",
    "gamecount=0\n",
    "while wincount < (3):\n",
    "    gamecount+=1\n",
    "    comp_choice = rm.choice(['rock', 'paper', 'scissors'])\n",
    "    user_choice = (input(\"Enter rock, paper, or scissors\")).lower()\n",
    "    if user_choice not in ['rock', 'paper', 'scissors']:\n",
    "        user_choice = \"invalid choice\"\n",
    "    print(f\"Round {gamecount}: Computer chose {comp_choice}, you chose {user_choice}\")\n",
    "\n",
    "    if comp_choice == \"rock\":\n",
    "        if user_choice == \"rock\" or user_choice==\"scissors\":\n",
    "            wincount+=0\n",
    "        elif user_choice == \"paper\":\n",
    "            wincount+=1\n",
    "        else:\n",
    "            print(\"invalid choice\")\n",
    "\n",
    "    elif comp_choice == \"scissors\":\n",
    "        if user_choice == \"rock\":\n",
    "            wincount+=1\n",
    "        elif user_choice == \"paper\" or user_choice==\"scissors\":\n",
    "            wincount+=0\n",
    "        else:\n",
    "            print(\"invalid choice\")\n",
    "\n",
    "    elif comp_choice == \"paper\":\n",
    "        if user_choice == \"rock\" or user_choice == \"paper\":\n",
    "            wincount+=0\n",
    "        elif user_choice == \"scissors\":\n",
    "            wincount+=1\n",
    "        else:\n",
    "            print(\"invalid choice\")\n",
    "\n",
    "print(f\"You won {wincount} of {gamecount} games!\")"
   ]
  },
  {
   "cell_type": "markdown",
   "metadata": {},
   "source": [
    "### Question 4 (6 points)"
   ]
  },
  {
   "cell_type": "markdown",
   "metadata": {},
   "source": [
    "a) Write a program (loop) that prints all the factors of a positive integer input by the user. A factor is any positive integer that divides the number and leaves no remainder. Show the output of the program if the user inputs `24`. \n",
    "\n",
    "Example: The factors of 8 are 1, 2, 4, 8."
   ]
  },
  {
   "cell_type": "code",
   "execution_count": 45,
   "metadata": {},
   "outputs": [
    {
     "name": "stdout",
     "output_type": "stream",
     "text": [
      "The factors of 24 are [1, 2, 3, 4, 6, 8, 12, 24]\n"
     ]
    }
   ],
   "source": [
    "user_num=int(input(\"Enter a positive integer: \"))\n",
    "factors= []\n",
    "for i in range (1, (user_num+1)):\n",
    "    if user_num % i == 0:\n",
    "        factors.append(i)\n",
    "print(f\"The factors of {user_num} are {factors}\")"
   ]
  },
  {
   "cell_type": "markdown",
   "metadata": {},
   "source": [
    "b) Write a **function** called `number_of_factors` that takes an integer and returns how many factors the number has. Run your function with `24` to check if it works."
   ]
  },
  {
   "cell_type": "code",
   "execution_count": 29,
   "metadata": {},
   "outputs": [
    {
     "name": "stdout",
     "output_type": "stream",
     "text": [
      "The number of factors in 24 is 8\n"
     ]
    }
   ],
   "source": [
    "\n",
    "def number_of_factors (user_num):\n",
    "    count=0\n",
    "    for i in range (1, (user_num+1)):\n",
    "        if user_num % i == 0:\n",
    "            count += 1\n",
    "    print(f\"The number of factors in {user_num} is {count}\")\n",
    "\n",
    "number_of_factors(24)"
   ]
  },
  {
   "cell_type": "markdown",
   "metadata": {},
   "source": [
    "### Question 5 (6 points)"
   ]
  },
  {
   "cell_type": "markdown",
   "metadata": {},
   "source": [
    "a) Write a program (loop) that identifies whether a positive integer input by the user is prime or not. A prime number is a number whose only divisors are 1 and itself. Show the output when the program is used to check if `89` is prime or not."
   ]
  },
  {
   "cell_type": "code",
   "execution_count": 81,
   "metadata": {},
   "outputs": [
    {
     "name": "stdout",
     "output_type": "stream",
     "text": [
      "89:Prime number\n"
     ]
    }
   ],
   "source": [
    "number_check = int(input(\"Enter a number\"))\n",
    "count = 0\n",
    "for i in range (1, (number_check+1)):\n",
    "    if number_check % i == 0:\n",
    "        count += 1\n",
    "\n",
    "if count <= 2:\n",
    "    print(f\"{number_check}:Prime number\")\n",
    "else:\n",
    "    print(f\"{number_check}: Not a prime number\")\n",
    "    "
   ]
  },
  {
   "cell_type": "markdown",
   "metadata": {},
   "source": [
    "b) Write a **function** that checks if a positive integer is prime or not. It should take one integer input and return a boolean. Run your function with `197` to check if it works."
   ]
  },
  {
   "cell_type": "code",
   "execution_count": 119,
   "metadata": {},
   "outputs": [
    {
     "name": "stdout",
     "output_type": "stream",
     "text": [
      "True\n"
     ]
    }
   ],
   "source": [
    "def primecheck (number):\n",
    "    prime=False\n",
    "    count=0\n",
    "    for i in range (1, (number+1)):\n",
    "        if number % i == 0:\n",
    "            count += 1\n",
    "    if count <= 2:\n",
    "        prime=True\n",
    "    \n",
    "    print(prime==True)\n",
    "\n",
    "primecheck(197)"
   ]
  },
  {
   "cell_type": "markdown",
   "metadata": {},
   "source": [
    "### Question 6 (4 points)"
   ]
  },
  {
   "cell_type": "markdown",
   "metadata": {},
   "source": [
    "Write a function that calculates the area of a rectangle. The function should have an input for length (in inches) and width (in inches). And have 2 ouputs: the area in terms of square inches and the area in terms of square feet. There are 12 inches in 1 foot. Run your function with a length of 102 inches and width of 60 inches to check if it works."
   ]
  },
  {
   "cell_type": "code",
   "execution_count": 6,
   "metadata": {},
   "outputs": [
    {
     "name": "stdout",
     "output_type": "stream",
     "text": [
      "6120 square inches\n",
      "42.5 square feet\n"
     ]
    }
   ],
   "source": [
    "def area (length, width):\n",
    "    area = (length * width)\n",
    "    print(area, \"square inches\")\n",
    "    print((area/144), \"square feet\")\n",
    "\n",
    "area (102,60)"
   ]
  },
  {
   "cell_type": "code",
   "execution_count": null,
   "metadata": {},
   "outputs": [],
   "source": []
  },
  {
   "cell_type": "markdown",
   "metadata": {},
   "source": [
    "### Question 7 (3 points)"
   ]
  },
  {
   "cell_type": "markdown",
   "metadata": {},
   "source": [
    "Write a function that takes a word and a sentence as two string inputs and returns the number of times the word occurs in the sentence as the output.\n",
    "\n",
    "Run your function with **\"sea\"** and **“Sea shells are on the sea shore when the sea is calm.”** inputs to check if it works. Your function should work for any word and sentence. \n",
    "\n",
    "Note: at this time it does not have to differentiate a distinct word just if it appears in any form. Example: **“The sea gives me nausea.”** would return 2."
   ]
  },
  {
   "cell_type": "code",
   "execution_count": 13,
   "metadata": {},
   "outputs": [],
   "source": [
    "def wordcount (word, sentence):\n",
    "   print(sentence.lower().count(word))"
   ]
  },
  {
   "cell_type": "code",
   "execution_count": 14,
   "metadata": {},
   "outputs": [
    {
     "name": "stdout",
     "output_type": "stream",
     "text": [
      "3\n"
     ]
    }
   ],
   "source": [
    "wordcount(\"sea\", \"Sea shells are on the sea shore when the sea is calm\")"
   ]
  }
 ],
 "metadata": {
  "kernelspec": {
   "display_name": ".venv",
   "language": "python",
   "name": "python3"
  },
  "language_info": {
   "codemirror_mode": {
    "name": "ipython",
    "version": 3
   },
   "file_extension": ".py",
   "mimetype": "text/x-python",
   "name": "python",
   "nbconvert_exporter": "python",
   "pygments_lexer": "ipython3",
   "version": "3.13.2"
  }
 },
 "nbformat": 4,
 "nbformat_minor": 4
}
